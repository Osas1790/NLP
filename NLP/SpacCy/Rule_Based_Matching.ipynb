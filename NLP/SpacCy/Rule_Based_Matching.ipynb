{
 "cells": [
  {
   "cell_type": "markdown",
   "metadata": {},
   "source": [
    "## Rule-Based Matching Using spaCy\n",
    "\n",
    "Rule-based matching using spaCy is a powerful feature that allows for the identification of specific word sequences or patterns in text, based on a set of predefined rules. This is particularly useful in scenarios where you need to extract specific types of information from text, like names, dates, or specific keyword patterns. spaCy provides a matcher class which lets you create and apply these rules.\n",
    "\n",
    "Rule-based matching is one of the steps in extracting information from unstructured text. It’s used to identify and extract tokens and phrases according to patterns (such as lowercase) and grammatical features (such as part of speech).\n",
    "\n",
    "Here's an overview of how rule-based matching works in spaCy:\n",
    "\n",
    "- Matcher Object: First, you create a Matcher object which is associated with a spaCy nlp object's vocabulary. The Matcher is used to find word sequences that match the provided patterns.\n",
    "- Defining Patterns: Patterns are defined as lists of dictionaries. Each dictionary describes one token and its attributes. For example, you can define a pattern to match a sequence of an adjective followed by a noun.\n",
    "  Attributes: You can use a wide range of token attributes in your patterns. These include the text of the token, its lemma, its part-of-speech tag, its dependency relation tag, and many others.\n",
    "  Adding Patterns to Matcher: After defining your patterns, you add them to the Matcher object. You can give each pattern a unique ID so that you can identify which pattern was matched.\n",
    "- Applying the Matcher: You apply the Matcher to a Doc object (the spaCy representation of a processed text). The Matcher returns the matches, which are tuples containing the match ID, and the start and end indices of the matched span in the Doc.\n",
    "- Handling Matches: You can then iterate over the matches to perform the desired actions, such as extracting information, modifying the text, or using the matches to further analyze the text.\n",
    "  Rule-based matching is highly versatile and can be adapted to a wide range of NLP tasks, from simple keyword matching to complex pattern recognition involving multiple token attributes and logical relations.\n"
   ]
  },
  {
   "cell_type": "code",
   "execution_count": 1,
   "metadata": {},
   "outputs": [],
   "source": [
    "import spacy\n",
    "\n",
    "nlp = spacy.load(\"en_core_web_sm\")\n",
    "from spacy import displacy\n",
    "from spacy.matcher import Matcher\n",
    "\n",
    "matcher = Matcher(nlp.vocab)"
   ]
  },
  {
   "cell_type": "code",
   "execution_count": 5,
   "metadata": {},
   "outputs": [
    {
     "data": {
      "text/plain": [
       "'Gus Proto'"
      ]
     },
     "execution_count": 5,
     "metadata": {},
     "output_type": "execute_result"
    }
   ],
   "source": [
    "import spacy\n",
    "\n",
    "nlp = spacy.load(\"en_core_web_sm\")\n",
    "about_text = (\n",
    "    \"Gus Proto is a Python developer currently\"\n",
    "    \" working for a London-based Fintech\"\n",
    "    \" company. He is interested in learning\"\n",
    "    \" Natural Language Processing.\"\n",
    ")\n",
    "about_doc = nlp(about_text)\n",
    "\n",
    "from spacy.matcher import Matcher\n",
    "\n",
    "matcher = Matcher(nlp.vocab)\n",
    "\n",
    "\n",
    "def extract_full_name(nlp_doc):\n",
    "    pattern = [{\"POS\": \"PROPN\"}, {\"POS\": \"PROPN\"}]\n",
    "    matcher.add(\"FULL_NAME\", [pattern])\n",
    "    matches = matcher(nlp_doc)\n",
    "    for _, start, end in matches:\n",
    "        span = nlp_doc[start:end]\n",
    "        yield span.text\n",
    "\n",
    "\n",
    "next(extract_full_name(about_doc))"
   ]
  }
 ],
 "metadata": {
  "kernelspec": {
   "display_name": "Python 3",
   "language": "python",
   "name": "python3"
  },
  "language_info": {
   "codemirror_mode": {
    "name": "ipython",
    "version": 3
   },
   "file_extension": ".py",
   "mimetype": "text/x-python",
   "name": "python",
   "nbconvert_exporter": "python",
   "pygments_lexer": "ipython3",
   "version": "3.10.10"
  }
 },
 "nbformat": 4,
 "nbformat_minor": 2
}
