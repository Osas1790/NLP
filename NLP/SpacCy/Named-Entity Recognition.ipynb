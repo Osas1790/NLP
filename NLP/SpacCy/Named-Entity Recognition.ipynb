{
 "cells": [
  {
   "cell_type": "markdown",
   "metadata": {},
   "source": [
    "## Named-Entity Recognition\n",
    "Named Entity Recognition (NER) is a subtask of information extraction in Natural Language Processing (NLP) that involves identifying and classifying named entities in text into predefined categories. These categories often include names of persons, organizations, locations, expressions of times, quantities, monetary values, percentages, etc. NER is essential for understanding the meaning of texts by identifying the key elements they mention.\n",
    "\n",
    "Named-entity recognition (NER) is the process of locating named entities in unstructured text and then classifying them into predefined categories, such as person names, organizations, locations, monetary values, percentages, and time expressions.\n",
    "\n",
    "You can use NER to learn more about the meaning of your text. For example, you could use it to populate tags for a set of documents in order to improve the keyword search. You could also use it to categorize customer support tickets into relevant categories.\n",
    "\n",
    "### **spaCy has the property .ents on Doc objects**\n",
    "\n",
    "\n",
    "Key aspects of Named-Entity Recognition:\n",
    "\n",
    "- Entity Identification: NER systems are designed to recognize named entities in a text. This involves not only identifying the entity but also determining its boundaries within the text (e.g., where the entity starts and ends).\n",
    "- Entity Classification: After identifying an entity, the system classifies it into a category. Common categories include PERSON (for names of people), ORG (for organizations), LOC (for locations), DATE (for date expressions), MONEY (for monetary values), and more.\n",
    "- Use in Various Applications: NER is used in many NLP applications such as search engines, content recommenders, question answering systems, and chatbots. It helps these systems understand the context of the text and provide relevant responses or actions.\n",
    "- Techniques: NER can be implemented using various techniques, ranging from rule-based approaches to advanced machine learning methods, including deep learning. The choice of technique often depends on the complexity of the task and the available training data.\n",
    "- Challenges: NER can be challenging due to the variety and ambiguity of natural language. For example, the same name can refer to different entities (e.g., \"Jordan\" can be a person's name or a country), and some entities might be less commonly known or have irregular forms.\n",
    "- Integration with Other NLP Tasks: NER often works in conjunction with other NLP tasks like tokenization, part-of-speech tagging, and dependency parsing to accurately identify and categorize entities.\n",
    "- Customization for Specific Domains: In some cases, NER systems are customized for specific domains, like medical texts or legal documents, where specialized knowledge is necessary to correctly identify and classify entities.\n",
    "\n",
    "NER plays a crucial role in extracting meaningful information from unstructured text, making it a key component of many NLP systems and applications."
   ]
  },
  {
   "cell_type": "code",
   "execution_count": 7,
   "metadata": {},
   "outputs": [],
   "source": [
    "import spacy\n",
    "from spacy import displacy\n",
    "\n",
    "nlp = spacy.load(\"en_core_web_sm\")"
   ]
  },
  {
   "cell_type": "code",
   "execution_count": 8,
   "metadata": {},
   "outputs": [
    {
     "name": "stdout",
     "output_type": "stream",
     "text": [
      "\n",
      "ent.text = 'Apple Inc.'\n",
      "ent.start_char = 0\n",
      "ent.end_char = 10\n",
      "ent.label_ = 'ORG'\n",
      "spacy.explain('ORG') = Companies, agencies, institutions, etc.\n",
      "\n",
      "ent.text = 'iPhone'\n",
      "ent.start_char = 36\n",
      "ent.end_char = 42\n",
      "ent.label_ = 'ORG'\n",
      "spacy.explain('ORG') = Companies, agencies, institutions, etc.\n",
      "\n",
      "ent.text = 'Cupertino'\n",
      "ent.start_char = 69\n",
      "ent.end_char = 78\n",
      "ent.label_ = 'GPE'\n",
      "spacy.explain('GPE') = Countries, cities, states\n",
      "\n",
      "ent.text = 'September 2023'\n",
      "ent.start_char = 82\n",
      "ent.end_char = 96\n",
      "ent.label_ = 'DATE'\n",
      "spacy.explain('DATE') = Absolute or relative dates or periods\n",
      "\n",
      "ent.text = '999'\n",
      "ent.start_char = 102\n",
      "ent.end_char = 105\n",
      "ent.label_ = 'MONEY'\n",
      "spacy.explain('MONEY') = Monetary values, including unit\n"
     ]
    }
   ],
   "source": [
    "# Process the text in NER\n",
    "doc = nlp(\n",
    "    \"Apple Inc. announced that their new iPhone model will be released in Cupertino in September 2023 for $999.\"\n",
    ")\n",
    "doc_txt = nlp(doc)\n",
    "\n",
    "for ent in doc_txt.ents:\n",
    "    print(\n",
    "        f\"\"\"\n",
    "{ent.text = }\n",
    "{ent.start_char = }\n",
    "{ent.end_char = }\n",
    "{ent.label_ = }\n",
    "spacy.explain('{ent.label_}') = {spacy.explain(ent.label_)}\"\"\"\n",
    "    )"
   ]
  },
  {
   "cell_type": "code",
   "execution_count": 10,
   "metadata": {},
   "outputs": [
    {
     "data": {
      "text/html": [
       "<span class=\"tex2jax_ignore\"><div class=\"entities\" style=\"line-height: 2.5; direction: ltr\">\n",
       "<mark class=\"entity\" style=\"background: #7aecec; padding: 0.45em 0.6em; margin: 0 0.25em; line-height: 1; border-radius: 0.35em;\">\n",
       "    Apple Inc.\n",
       "    <span style=\"font-size: 0.8em; font-weight: bold; line-height: 1; border-radius: 0.35em; vertical-align: middle; margin-left: 0.5rem\">ORG</span>\n",
       "</mark>\n",
       " announced that their new \n",
       "<mark class=\"entity\" style=\"background: #7aecec; padding: 0.45em 0.6em; margin: 0 0.25em; line-height: 1; border-radius: 0.35em;\">\n",
       "    iPhone\n",
       "    <span style=\"font-size: 0.8em; font-weight: bold; line-height: 1; border-radius: 0.35em; vertical-align: middle; margin-left: 0.5rem\">ORG</span>\n",
       "</mark>\n",
       " model will be released in \n",
       "<mark class=\"entity\" style=\"background: #feca74; padding: 0.45em 0.6em; margin: 0 0.25em; line-height: 1; border-radius: 0.35em;\">\n",
       "    Cupertino\n",
       "    <span style=\"font-size: 0.8em; font-weight: bold; line-height: 1; border-radius: 0.35em; vertical-align: middle; margin-left: 0.5rem\">GPE</span>\n",
       "</mark>\n",
       " in \n",
       "<mark class=\"entity\" style=\"background: #bfe1d9; padding: 0.45em 0.6em; margin: 0 0.25em; line-height: 1; border-radius: 0.35em;\">\n",
       "    September 2023\n",
       "    <span style=\"font-size: 0.8em; font-weight: bold; line-height: 1; border-radius: 0.35em; vertical-align: middle; margin-left: 0.5rem\">DATE</span>\n",
       "</mark>\n",
       " for $\n",
       "<mark class=\"entity\" style=\"background: #e4e7d2; padding: 0.45em 0.6em; margin: 0 0.25em; line-height: 1; border-radius: 0.35em;\">\n",
       "    999\n",
       "    <span style=\"font-size: 0.8em; font-weight: bold; line-height: 1; border-radius: 0.35em; vertical-align: middle; margin-left: 0.5rem\">MONEY</span>\n",
       "</mark>\n",
       ".</div></span>"
      ],
      "text/plain": [
       "<IPython.core.display.HTML object>"
      ]
     },
     "metadata": {},
     "output_type": "display_data"
    }
   ],
   "source": [
    "# Visualize the NER\n",
    "displacy.render(doc, style=\"ent\", jupyter=True, options={\"distance\": 200})"
   ]
  },
  {
   "cell_type": "code",
   "execution_count": 16,
   "metadata": {},
   "outputs": [],
   "source": [
    "# Example of a custom NER\n",
    "NER = spacy.load(\"en_core_web_sm\")\n",
    "\n",
    "def spacy_large_ner(document):\n",
    "    return {(ent.text.strip(), ent.label_) for ent in NER(document).ents}\n"
   ]
  },
  {
   "cell_type": "code",
   "execution_count": 26,
   "metadata": {},
   "outputs": [
    {
     "data": {
      "text/plain": [
       "{('The World Health Organization', 'ORG'), ('the United Nations', 'ORG')}"
      ]
     },
     "execution_count": 26,
     "metadata": {},
     "output_type": "execute_result"
    }
   ],
   "source": [
    "doc = \"The World Health Organization (WHO)[1] is a specialized agency of the United Nations responsible for international public health.\"\n",
    "spaCy_ner = spacy_large_ner(doc)\n",
    "spaCy_ner"
   ]
  },
  {
   "cell_type": "code",
   "execution_count": 27,
   "metadata": {},
   "outputs": [
    {
     "data": {
      "text/html": [
       "<span class=\"tex2jax_ignore\"><div class=\"entities\" style=\"line-height: 2.5; direction: ltr\">\n",
       "<mark class=\"entity\" style=\"background: #7aecec; padding: 0.45em 0.6em; margin: 0 0.25em; line-height: 1; border-radius: 0.35em;\">\n",
       "    The World Health Organization\n",
       "    <span style=\"font-size: 0.8em; font-weight: bold; line-height: 1; border-radius: 0.35em; vertical-align: middle; margin-left: 0.5rem\">ORG</span>\n",
       "</mark>\n",
       " (WHO)[1] is a specialized agency of \n",
       "<mark class=\"entity\" style=\"background: #7aecec; padding: 0.45em 0.6em; margin: 0 0.25em; line-height: 1; border-radius: 0.35em;\">\n",
       "    the United Nations\n",
       "    <span style=\"font-size: 0.8em; font-weight: bold; line-height: 1; border-radius: 0.35em; vertical-align: middle; margin-left: 0.5rem\">ORG</span>\n",
       "</mark>\n",
       " responsible for international public health.</div></span>"
      ],
      "text/plain": [
       "<IPython.core.display.HTML object>"
      ]
     },
     "metadata": {},
     "output_type": "display_data"
    }
   ],
   "source": [
    "displacy.render(NER(doc), style=\"ent\", jupyter=True, options={\"distance\": 200})"
   ]
  },
  {
   "cell_type": "code",
   "execution_count": null,
   "metadata": {},
   "outputs": [],
   "source": []
  }
 ],
 "metadata": {
  "kernelspec": {
   "display_name": "Python 3",
   "language": "python",
   "name": "python3"
  },
  "language_info": {
   "codemirror_mode": {
    "name": "ipython",
    "version": 3
   },
   "file_extension": ".py",
   "mimetype": "text/x-python",
   "name": "python",
   "nbconvert_exporter": "python",
   "pygments_lexer": "ipython3",
   "version": "3.10.10"
  }
 },
 "nbformat": 4,
 "nbformat_minor": 2
}
