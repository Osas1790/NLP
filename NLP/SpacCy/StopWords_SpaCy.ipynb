{
 "cells": [
  {
   "cell_type": "markdown",
   "metadata": {},
   "source": [
    "## Stop Words\n",
    "top words are words in natural language that are often filtered out or ignored in Natural Language Processing (NLP) tasks because they are considered to be of little semantic value. These words are usually common words such as \"the\", \"is\", \"at\", \"which\", and \"on\". They are called \"stop words\" because they are often \"stopped\" or removed in the preprocessing phase of text data analysis and model training.\n",
    "\n",
    "The rationale behind removing stop words is that they occur frequently in the language and usually don't carry significant meaning on their own. By eliminating them, NLP algorithms can focus on more meaningful words, potentially improving the efficiency and performance of tasks like text classification, sentiment analysis, and keyword extraction.\n",
    "\n",
    "However, the removal of stop words is not always appropriate. It depends on the specific task and the nature of the data. In some cases, such as in sentence structure analysis or certain types of semantic analysis, the stop words can provide important contextual cues and should be retained."
   ]
  },
  {
   "cell_type": "code",
   "execution_count": 4,
   "metadata": {},
   "outputs": [
    {
     "name": "stdout",
     "output_type": "stream",
     "text": [
      "326\n",
      "all\n",
      "again\n",
      "without\n",
      "hereafter\n",
      "various\n",
      "became\n",
      "seems\n",
      "your\n",
      "bottom\n",
      "any\n"
     ]
    }
   ],
   "source": [
    "import spacy\n",
    "\n",
    "nlp = spacy.load(\"en_core_web_sm\")\n",
    "\n",
    "spaCy_stopwords = spacy.lang.en.stop_words.STOP_WORDS\n",
    "print(len(spaCy_stopwords))\n",
    "\n",
    "for stop_word in list(spaCy_stopwords)[:10]:\n",
    "    print(stop_word)"
   ]
  },
  {
   "cell_type": "code",
   "execution_count": 5,
   "metadata": {},
   "outputs": [],
   "source": [
    "# In the exaple above, I exmined the STOP_WORDS list from spacy.lang.en.stop_words.STOP_WORDS."
   ]
  },
  {
   "cell_type": "code",
   "execution_count": 6,
   "metadata": {},
   "outputs": [
    {
     "name": "stdout",
     "output_type": "stream",
     "text": [
      "[Gus, Proto, Python, developer, currently, working, London, -, based, Fintech, company, ., interested, learning, Natural, Language, Processing, .]\n"
     ]
    }
   ],
   "source": [
    "custom_about_text = (\n",
    "    \"Gus Proto is a Python developer currently\"\n",
    "    \" working for a London-based Fintech\"\n",
    "    \" company. He is interested in learning\"\n",
    "    \" Natural Language Processing.\"\n",
    ")\n",
    "nlp = spacy.load(\"en_core_web_sm\")\n",
    "about_doc = nlp(custom_about_text)\n",
    "print([token for token in about_doc if not token.is_stop])"
   ]
  },
  {
   "cell_type": "code",
   "execution_count": null,
   "metadata": {},
   "outputs": [],
   "source": []
  }
 ],
 "metadata": {
  "kernelspec": {
   "display_name": "Python 3",
   "language": "python",
   "name": "python3"
  },
  "language_info": {
   "codemirror_mode": {
    "name": "ipython",
    "version": 3
   },
   "file_extension": ".py",
   "mimetype": "text/x-python",
   "name": "python",
   "nbconvert_exporter": "python",
   "pygments_lexer": "ipython3",
   "version": "3.10.10"
  }
 },
 "nbformat": 4,
 "nbformat_minor": 2
}
