{
 "cells": [
  {
   "cell_type": "markdown",
   "metadata": {},
   "source": [
    "## Introduction to NLP and spaCy\n",
    "NLP is a subfield of artificial intelligence, and it’s all about allowing computers to comprehend human language. NLP involves analyzing, quantifying, understanding, and deriving meaning from natural languages. spaCy is a free, open-source library for NLP in Python written in Cython. spaCy is designed to make it easy to build systems for information extraction or general-purpose natural language processing.\n",
    "\n",
    "\n",
    "There are various spaCy models for different languages. The default model for the English language is designated as en_core_web_sm. Since the models are quite large, it’s best to install them separately—including all languages in one package would make the download too massive"
   ]
  },
  {
   "cell_type": "code",
   "execution_count": 1,
   "metadata": {},
   "outputs": [
    {
     "data": {
      "text/plain": [
       "<spacy.lang.en.English at 0x177f29b70>"
      ]
     },
     "execution_count": 1,
     "metadata": {},
     "output_type": "execute_result"
    }
   ],
   "source": [
    "import spacy\n",
    "\n",
    "nlp = spacy.load(\"en_core_web_sm\")\n",
    "nlp"
   ]
  },
  {
   "cell_type": "code",
   "execution_count": 2,
   "metadata": {},
   "outputs": [
    {
     "data": {
      "text/plain": [
       "spacy.tokens.doc.Doc"
      ]
     },
     "execution_count": 2,
     "metadata": {},
     "output_type": "execute_result"
    }
   ],
   "source": [
    "# The load() function returns a Language callable object, which is commonly assigned to a variable called nlp\n",
    "# To start processing , let me construct a Doc object. A Doc object is asequence pf Token objects representing a lexical token.\n",
    "# Each token object has information about a particular piece - typically one word of text. You can instantiate a doc object\n",
    "# by calling the language object with the input string as an argument.\n",
    "\n",
    "int_doc = nlp(\"This tutorial is about Natural Language Processing in spaCy.\")\n",
    "type(int_doc)"
   ]
  },
  {
   "cell_type": "code",
   "execution_count": 3,
   "metadata": {},
   "outputs": [
    {
     "data": {
      "text/plain": [
       "['This',\n",
       " 'tutorial',\n",
       " 'is',\n",
       " 'about',\n",
       " 'Natural',\n",
       " 'Language',\n",
       " 'Processing',\n",
       " 'in',\n",
       " 'spaCy',\n",
       " '.']"
      ]
     },
     "execution_count": 3,
     "metadata": {},
     "output_type": "execute_result"
    }
   ],
   "source": [
    "[token.text for token in int_doc]"
   ]
  },
  {
   "cell_type": "code",
   "execution_count": 6,
   "metadata": {},
   "outputs": [
    {
     "name": "stdout",
     "output_type": "stream",
     "text": [
      "['\\n', 'The', 'Golden', 'Retriever', 'is', 'a', 'popular', 'dog', 'breed', 'known', 'for', 'its', 'friendly', 'and', 'tolerant', 'attitude', ',', '\\n', 'making', 'it', 'an', 'excellent', 'family', 'pet', '.', 'Originally', 'bred', 'for', 'retrieving', 'game', 'during', 'hunting', ',', '\\n', 'they', 'are', 'highly', 'trainable', 'and', 'often', 'used', 'as', 'guide', 'dogs', 'and', 'in', 'search', '-', 'and', '-', 'rescue', 'missions']\n"
     ]
    }
   ],
   "source": [
    "import pathlib\n",
    "\n",
    "file_name = \"golden.txt\" # reading the file\n",
    "intr_doc = nlp(pathlib.Path(file_name).read_text(encoding=\"utf8\"))\n",
    "print([token.text for token in intr_doc])"
   ]
  },
  {
   "cell_type": "code",
   "execution_count": 7,
   "metadata": {},
   "outputs": [],
   "source": [
    "# In the example about, the txt file was read in with the default encoding, which is utf8.\n",
    "# If you are working with a different encoding, you can specify it with the encoding argument. Anlso,\n",
    "# if you are working with a file that is not in the current working directory, you can specify the path to the file\n",
    "# with the path argument. The path argument can be a string or a pathlib.Path object."
   ]
  }
 ],
 "metadata": {
  "kernelspec": {
   "display_name": "Python 3",
   "language": "python",
   "name": "python3"
  },
  "language_info": {
   "codemirror_mode": {
    "name": "ipython",
    "version": 3
   },
   "file_extension": ".py",
   "mimetype": "text/x-python",
   "name": "python",
   "nbconvert_exporter": "python",
   "pygments_lexer": "ipython3",
   "version": "3.10.10"
  }
 },
 "nbformat": 4,
 "nbformat_minor": 2
}
